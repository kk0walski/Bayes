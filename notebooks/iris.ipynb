{
 "cells": [
  {
   "cell_type": "code",
   "execution_count": 5,
   "metadata": {},
   "outputs": [
    {
     "name": "stdout",
     "output_type": "stream",
     "text": [
      "Requirement already satisfied: pandas in /home/karol/PycharmProjects/Bayes/venv/lib/python3.6/site-packages (0.24.2)\n",
      "Requirement already satisfied: python-dateutil>=2.5.0 in /home/karol/PycharmProjects/Bayes/venv/lib/python3.6/site-packages (from pandas) (2.8.0)\n",
      "Requirement already satisfied: numpy>=1.12.0 in /home/karol/PycharmProjects/Bayes/venv/lib/python3.6/site-packages (from pandas) (1.16.2)\n",
      "Requirement already satisfied: pytz>=2011k in /home/karol/PycharmProjects/Bayes/venv/lib/python3.6/site-packages (from pandas) (2018.9)\n",
      "Requirement already satisfied: six>=1.5 in /home/karol/PycharmProjects/Bayes/venv/lib/python3.6/site-packages (from python-dateutil>=2.5.0->pandas) (1.12.0)\n"
     ]
    }
   ],
   "source": [
    "!pip install pandas"
   ]
  },
  {
   "cell_type": "code",
   "execution_count": 1,
   "metadata": {},
   "outputs": [],
   "source": [
    "import pandas as pd\n",
    "from models.DiscreteBayes import DiscreteBayes\n",
    "from sklearn import preprocessing\n",
    "from sklearn.model_selection import train_test_split\n",
    "iris = pd.read_csv(\"../data/iris.data\", names=['sepal_length_in_cm', 'sepal_width_in_cm', 'petal_length_in_cm', \n",
    "'petal_width_in_cm', 'class'])"
   ]
  },
  {
   "cell_type": "code",
   "execution_count": 2,
   "metadata": {},
   "outputs": [],
   "source": [
    "iris = iris.replace(to_replace={'Iris-setosa': 0, 'Iris-versicolor': 1, 'Iris-virginica': 2})"
   ]
  },
  {
   "cell_type": "code",
   "execution_count": 3,
   "metadata": {},
   "outputs": [],
   "source": [
    "bins=3\n",
    "proc = preprocessing.KBinsDiscretizer(n_bins=bins, encode='ordinal', strategy='kmeans').fit(iris.values[:,0:-1])\n",
    "X = proc.transform(iris.values[:,0:-1])\n",
    "Y = iris.values[:,-1]"
   ]
  },
  {
   "cell_type": "code",
   "execution_count": 4,
   "metadata": {},
   "outputs": [],
   "source": [
    "X_train, X_test, y_train, y_test = train_test_split(X, Y, test_size = 0.3, random_state = 0)"
   ]
  },
  {
   "cell_type": "code",
   "execution_count": 5,
   "metadata": {},
   "outputs": [],
   "source": [
    "bayes = DiscreteBayes()\n",
    "bayes.fit(X_train,y_train, [i for i in range(bins)], test_size=0.3)"
   ]
  },
  {
   "cell_type": "code",
   "execution_count": 6,
   "metadata": {},
   "outputs": [
    {
     "data": {
      "text/plain": [
       "array([[[0.3220339 , 0.03389831, 0.01694915],\n",
       "        [0.03389831, 0.16949153, 0.16949153],\n",
       "        [0.33898305, 0.01694915, 0.01694915],\n",
       "        [0.33898305, 0.01694915, 0.01694915]],\n",
       "\n",
       "       [[0.09459459, 0.18918919, 0.08108108],\n",
       "        [0.17567568, 0.17567568, 0.01351351],\n",
       "        [0.01351351, 0.32432432, 0.02702703],\n",
       "        [0.01351351, 0.32432432, 0.02702703]],\n",
       "\n",
       "       [[0.02173913, 0.18478261, 0.15217391],\n",
       "        [0.14130435, 0.17391304, 0.04347826],\n",
       "        [0.01086957, 0.0326087 , 0.31521739],\n",
       "        [0.01086957, 0.04347826, 0.30434783]]])"
      ]
     },
     "execution_count": 6,
     "metadata": {},
     "output_type": "execute_result"
    }
   ],
   "source": [
    "bayes.p_x_y"
   ]
  },
  {
   "cell_type": "code",
   "execution_count": 7,
   "metadata": {},
   "outputs": [],
   "source": [
    "predictions = bayes.predict(X_test)"
   ]
  },
  {
   "cell_type": "code",
   "execution_count": 8,
   "metadata": {},
   "outputs": [
    {
     "data": {
      "text/plain": [
       "array([[2.71979342e-05, 3.91259813e-03, 9.96060204e-01],\n",
       "       [2.31294459e-05, 9.93532389e-01, 6.44448119e-03],\n",
       "       [9.99977008e-01, 1.44548864e-05, 8.53705870e-06],\n",
       "       [7.69148764e-05, 1.46399495e-03, 9.98459090e-01],\n",
       "       [9.99735644e-01, 2.24825838e-04, 3.95305175e-05],\n",
       "       [1.23743911e-04, 3.06058455e-03, 9.96815672e-01],\n",
       "       [9.99977008e-01, 1.44548864e-05, 8.53705870e-06],\n",
       "       [1.72912445e-04, 9.82749786e-01, 1.70773013e-02],\n",
       "       [2.98443663e-05, 9.86569872e-01, 1.34002840e-02],\n",
       "       [2.31294459e-05, 9.93532389e-01, 6.44448119e-03],\n",
       "       [1.58937302e-04, 3.95092604e-01, 6.04748458e-01],\n",
       "       [1.34271725e-04, 9.91636698e-01, 8.22903010e-03],\n",
       "       [2.31294459e-05, 9.93532389e-01, 6.44448119e-03],\n",
       "       [2.31294459e-05, 9.93532389e-01, 6.44448119e-03],\n",
       "       [1.34271725e-04, 9.91636698e-01, 8.22903010e-03],\n",
       "       [9.99735644e-01, 2.24825838e-04, 3.95305175e-05],\n",
       "       [1.34271725e-04, 9.91636698e-01, 8.22903010e-03],\n",
       "       [7.02350217e-04, 9.97880428e-01, 1.41722176e-03],\n",
       "       [9.99735644e-01, 2.24825838e-04, 3.95305175e-05],\n",
       "       [9.99977008e-01, 1.44548864e-05, 8.53705870e-06],\n",
       "       [1.93475190e-04, 4.80948245e-01, 5.18858280e-01],\n",
       "       [1.34271725e-04, 9.91636698e-01, 8.22903010e-03],\n",
       "       [9.99735644e-01, 2.24825838e-04, 3.95305175e-05],\n",
       "       [9.99735644e-01, 2.24825838e-04, 3.95305175e-05],\n",
       "       [1.93475190e-04, 4.80948245e-01, 5.18858280e-01],\n",
       "       [9.99977008e-01, 1.44548864e-05, 8.53705870e-06],\n",
       "       [9.99977008e-01, 1.44548864e-05, 8.53705870e-06],\n",
       "       [1.34271725e-04, 9.91636698e-01, 8.22903010e-03],\n",
       "       [7.02350217e-04, 9.97880428e-01, 1.41722176e-03],\n",
       "       [9.99735644e-01, 2.24825838e-04, 3.95305175e-05],\n",
       "       [1.23743911e-04, 3.06058455e-03, 9.96815672e-01],\n",
       "       [4.06972014e-03, 9.94123979e-01, 1.80630043e-03],\n",
       "       [9.99977008e-01, 1.44548864e-05, 8.53705870e-06],\n",
       "       [9.82056369e-04, 4.19721001e-01, 5.79296943e-01],\n",
       "       [2.71979342e-05, 3.91259813e-03, 9.96060204e-01],\n",
       "       [7.02350217e-04, 9.97880428e-01, 1.41722176e-03],\n",
       "       [9.98386726e-01, 4.36330411e-04, 1.17694371e-03],\n",
       "       [1.58937302e-04, 3.95092604e-01, 6.04748458e-01],\n",
       "       [1.34271725e-04, 9.91636698e-01, 8.22903010e-03],\n",
       "       [2.31294459e-05, 9.93532389e-01, 6.44448119e-03],\n",
       "       [7.69148764e-05, 1.46399495e-03, 9.98459090e-01],\n",
       "       [9.99735644e-01, 2.24825838e-04, 3.95305175e-05],\n",
       "       [7.69148764e-05, 1.46399495e-03, 9.98459090e-01],\n",
       "       [9.99977008e-01, 1.44548864e-05, 8.53705870e-06],\n",
       "       [9.99977008e-01, 1.44548864e-05, 8.53705870e-06]])"
      ]
     },
     "execution_count": 8,
     "metadata": {},
     "output_type": "execute_result"
    }
   ],
   "source": [
    "predictions"
   ]
  },
  {
   "cell_type": "code",
   "execution_count": 9,
   "metadata": {},
   "outputs": [
    {
     "data": {
      "text/plain": [
       "0.022222222222222254"
      ]
     },
     "execution_count": 9,
     "metadata": {},
     "output_type": "execute_result"
    }
   ],
   "source": [
    "1 - bayes.accuracy(predictions, y_test)"
   ]
  },
  {
   "cell_type": "code",
   "execution_count": 1,
   "metadata": {},
   "outputs": [],
   "source": [
    "import pandas as pd\n",
    "from models.GaussianBayes import GaussianBayes\n",
    "from sklearn import preprocessing\n",
    "from sklearn.model_selection import train_test_split\n",
    "iris = pd.read_csv(\"../data/iris.data\", names=['sepal_length_in_cm', 'sepal_width_in_cm', 'petal_length_in_cm', \n",
    "'petal_width_in_cm', 'class'])\n",
    "iris = iris.replace(to_replace={'Iris-setosa': 0, 'Iris-versicolor': 1, 'Iris-virginica': 2})"
   ]
  },
  {
   "cell_type": "code",
   "execution_count": 2,
   "metadata": {},
   "outputs": [],
   "source": [
    "X = iris.values[:, 0:-1]\n",
    "Y = iris.values[:,-1]"
   ]
  },
  {
   "cell_type": "code",
   "execution_count": 3,
   "metadata": {},
   "outputs": [],
   "source": [
    "X_train, X_test, y_train, y_test = train_test_split(X, Y, test_size = 0.3, random_state = 0)"
   ]
  },
  {
   "cell_type": "code",
   "execution_count": 4,
   "metadata": {},
   "outputs": [
    {
     "name": "stdout",
     "output_type": "stream",
     "text": [
      "-0.05\n",
      "0.1\n"
     ]
    }
   ],
   "source": [
    "gauss = GaussianBayes()\n",
    "gauss.fit(X_train,y_train, test_size=0.3)"
   ]
  },
  {
   "cell_type": "code",
   "execution_count": 5,
   "metadata": {},
   "outputs": [
    {
     "data": {
      "text/plain": [
       "{0.0: [(4.978526315789474, 0.4114370083907083),\n",
       "  (3.3943157894736853, 0.5595459907164779),\n",
       "  (1.425894736842105, 0.22739180925475783),\n",
       "  (0.19431578947368416, 0.18741928645132283)],\n",
       " 1.0: [(5.868000000000001, 0.6551989869391314),\n",
       "  (2.709666666666667, 0.44924092770989343),\n",
       "  (4.1513333333333335, 0.616991688470939),\n",
       "  (1.2846666666666666, 0.32243747458109495)],\n",
       " 2.0: [(6.591333333333335, 0.7851081438810084),\n",
       "  (2.9513333333333347, 0.46216033500695153),\n",
       "  (5.581333333333333, 0.6953635580612273),\n",
       "  (1.991333333333333, 0.3521506163311584)]}"
      ]
     },
     "execution_count": 5,
     "metadata": {},
     "output_type": "execute_result"
    }
   ],
   "source": [
    "gauss.summaries"
   ]
  },
  {
   "cell_type": "code",
   "execution_count": 6,
   "metadata": {},
   "outputs": [],
   "source": [
    "predictions = gauss.predict(X_test)"
   ]
  },
  {
   "cell_type": "code",
   "execution_count": 7,
   "metadata": {},
   "outputs": [
    {
     "data": {
      "text/plain": [
       "0.022222222222222223"
      ]
     },
     "execution_count": 7,
     "metadata": {},
     "output_type": "execute_result"
    }
   ],
   "source": [
    "gauss.error_fun(predictions, y_test)"
   ]
  },
  {
   "cell_type": "code",
   "execution_count": 8,
   "metadata": {},
   "outputs": [
    {
     "data": {
      "text/plain": [
       "array([[3.31851241e-087, 3.98229804e-003, 9.96017702e-001],\n",
       "       [9.49915348e-034, 9.99299771e-001, 7.00228773e-004],\n",
       "       [9.99999999e-001, 7.83558196e-010, 3.70058229e-016],\n",
       "       [2.78185531e-122, 1.97380782e-004, 9.99802619e-001],\n",
       "       [9.99999990e-001, 9.73903427e-009, 1.17244958e-015],\n",
       "       [2.93755294e-122, 1.84345777e-005, 9.99981565e-001],\n",
       "       [9.99999994e-001, 5.67170689e-009, 8.84074480e-016],\n",
       "       [6.08179008e-059, 5.57142468e-001, 4.42857532e-001],\n",
       "       [8.20111187e-061, 6.62697860e-001, 3.37302140e-001],\n",
       "       [3.00703613e-037, 9.92170168e-001, 7.82983233e-003],\n",
       "       [1.64584602e-083, 3.04898992e-001, 6.95101008e-001],\n",
       "       [1.94395572e-052, 7.76041695e-001, 2.23958305e-001],\n",
       "       [5.64375848e-053, 9.62977870e-001, 3.70221297e-002],\n",
       "       [8.38719697e-056, 7.77390548e-001, 2.22609452e-001],\n",
       "       [1.25046859e-055, 8.80489859e-001, 1.19510141e-001],\n",
       "       [9.99999992e-001, 7.81005218e-009, 4.10153463e-016],\n",
       "       [1.28276450e-051, 8.97832345e-001, 1.02167655e-001],\n",
       "       [4.15114173e-044, 9.94021392e-001, 5.97860784e-003],\n",
       "       [9.99999966e-001, 3.43129511e-008, 2.94089423e-015],\n",
       "       [9.99999986e-001, 1.41708100e-008, 7.83227420e-015],\n",
       "       [4.85042740e-071, 1.44792796e-001, 8.55207204e-001],\n",
       "       [1.27259439e-050, 9.24409326e-001, 7.55906737e-002],\n",
       "       [9.99999254e-001, 7.45559399e-007, 1.53602087e-013],\n",
       "       [9.99999989e-001, 1.05458613e-008, 4.76865084e-016],\n",
       "       [1.28516728e-065, 3.04087318e-001, 6.95912682e-001],\n",
       "       [1.00000000e+000, 3.25394462e-010, 2.22426904e-017],\n",
       "       [9.99996362e-001, 3.63807170e-006, 3.49863520e-012],\n",
       "       [2.75512634e-044, 9.75889121e-001, 2.41108788e-002],\n",
       "       [1.67760142e-018, 9.99952284e-001, 4.77163750e-005],\n",
       "       [9.99999702e-001, 2.97511470e-007, 9.58054423e-014],\n",
       "       [3.60050415e-088, 1.90093422e-002, 9.80990658e-001],\n",
       "       [2.83292940e-050, 9.36223923e-001, 6.37760773e-002],\n",
       "       [9.99999989e-001, 1.13408967e-008, 1.76971847e-015],\n",
       "       [4.61761389e-068, 2.20614981e-001, 7.79385019e-001],\n",
       "       [9.89421879e-101, 1.25091395e-003, 9.98749086e-001],\n",
       "       [7.45045427e-035, 9.96234466e-001, 3.76553411e-003],\n",
       "       [9.99999443e-001, 5.57027319e-007, 4.18141371e-013],\n",
       "       [3.01924863e-070, 4.50555685e-001, 5.49444315e-001],\n",
       "       [6.16662830e-044, 9.56782621e-001, 4.32173793e-002],\n",
       "       [2.16051291e-035, 9.97531350e-001, 2.46864983e-003],\n",
       "       [1.90168515e-096, 1.47520374e-003, 9.98524796e-001],\n",
       "       [9.99999997e-001, 2.98153827e-009, 1.82090151e-016],\n",
       "       [1.54341451e-088, 1.10003492e-003, 9.98899965e-001],\n",
       "       [9.99994588e-001, 5.41198000e-006, 4.87714780e-012],\n",
       "       [9.99999990e-001, 1.01952962e-008, 2.44398306e-015]])"
      ]
     },
     "execution_count": 8,
     "metadata": {},
     "output_type": "execute_result"
    }
   ],
   "source": [
    "predictions"
   ]
  },
  {
   "cell_type": "code",
   "execution_count": null,
   "metadata": {},
   "outputs": [],
   "source": []
  }
 ],
 "metadata": {
  "kernelspec": {
   "display_name": "Python 3",
   "language": "python",
   "name": "python3"
  },
  "language_info": {
   "codemirror_mode": {
    "name": "ipython",
    "version": 3
   },
   "file_extension": ".py",
   "mimetype": "text/x-python",
   "name": "python",
   "nbconvert_exporter": "python",
   "pygments_lexer": "ipython3",
   "version": "3.6.7"
  }
 },
 "nbformat": 4,
 "nbformat_minor": 1
}
